{
  "nbformat": 4,
  "nbformat_minor": 0,
  "metadata": {
    "colab": {
      "name": "Working notes.ipynb",
      "provenance": [],
      "include_colab_link": true
    },
    "kernelspec": {
      "name": "python3",
      "display_name": "Python 3"
    }
  },
  "cells": [
    {
      "cell_type": "markdown",
      "metadata": {
        "id": "view-in-github",
        "colab_type": "text"
      },
      "source": [
        "<a href=\"https://colab.research.google.com/github/sriramabonam/Data-Science-Portfolio/blob/master/Working_notes.ipynb\" target=\"_parent\"><img src=\"https://colab.research.google.com/assets/colab-badge.svg\" alt=\"Open In Colab\"/></a>"
      ]
    },
    {
      "cell_type": "code",
      "metadata": {
        "id": "QPZc11PCuCGB",
        "colab_type": "code",
        "colab": {
          "base_uri": "https://localhost:8080/",
          "height": 122
        },
        "outputId": "f8d0cb36-5c8b-4f02-93b9-46e8fe1bfb3d"
      },
      "source": [
        "from google.colab import drive \n",
        "drive.mount('/content/drive/')"
      ],
      "execution_count": 3,
      "outputs": [
        {
          "output_type": "stream",
          "text": [
            "Go to this URL in a browser: https://accounts.google.com/o/oauth2/auth?client_id=947318989803-6bn6qk8qdgf4n4g3pfee6491hc0brc4i.apps.googleusercontent.com&redirect_uri=urn%3aietf%3awg%3aoauth%3a2.0%3aoob&response_type=code&scope=email%20https%3a%2f%2fwww.googleapis.com%2fauth%2fdocs.test%20https%3a%2f%2fwww.googleapis.com%2fauth%2fdrive%20https%3a%2f%2fwww.googleapis.com%2fauth%2fdrive.photos.readonly%20https%3a%2f%2fwww.googleapis.com%2fauth%2fpeopleapi.readonly\n",
            "\n",
            "Enter your authorization code:\n",
            "··········\n",
            "Mounted at /content/drive/\n"
          ],
          "name": "stdout"
        }
      ]
    },
    {
      "cell_type": "code",
      "metadata": {
        "id": "t31NKLqNwwKb",
        "colab_type": "code",
        "colab": {}
      },
      "source": [
        "import numpy as np\n",
        "import pandas as pd\n",
        "import matplotlib.pyplot as plt\n",
        "!pip install -q keras"
      ],
      "execution_count": 0,
      "outputs": []
    },
    {
      "cell_type": "markdown",
      "metadata": {
        "id": "epuotIK36Pcq",
        "colab_type": "text"
      },
      "source": [
        "from google.colab import files\n",
        "files.upload()"
      ]
    },
    {
      "cell_type": "code",
      "metadata": {
        "id": "ui57JFCi8E0L",
        "colab_type": "code",
        "colab": {
          "resources": {
            "http://localhost:8080/nbextensions/google.colab/files.js": {
              "data": "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",
              "ok": true,
              "headers": [
                [
                  "content-type",
                  "application/javascript"
                ]
              ],
              "status": 200,
              "status_text": ""
            }
          },
          "base_uri": "https://localhost:8080/",
          "height": 111
        },
        "outputId": "b8a83cec-dff5-4396-816a-4dc36e165d24"
      },
      "source": [
        "from google.colab import files\n",
        "files.upload()"
      ],
      "execution_count": 38,
      "outputs": [
        {
          "output_type": "display_data",
          "data": {
            "text/html": [
              "\n",
              "     <input type=\"file\" id=\"files-d18ee8fe-78b2-46bb-8b87-7cc12c5640a1\" name=\"files[]\" multiple disabled />\n",
              "     <output id=\"result-d18ee8fe-78b2-46bb-8b87-7cc12c5640a1\">\n",
              "      Upload widget is only available when the cell has been executed in the\n",
              "      current browser session. Please rerun this cell to enable.\n",
              "      </output>\n",
              "      <script src=\"/nbextensions/google.colab/files.js\"></script> "
            ],
            "text/plain": [
              "<IPython.core.display.HTML object>"
            ]
          },
          "metadata": {
            "tags": []
          }
        },
        {
          "output_type": "stream",
          "text": [
            "Saving iris.csv to iris.csv\n"
          ],
          "name": "stdout"
        },
        {
          "output_type": "execute_result",
          "data": {
            "text/plain": [
              "{'iris.csv': b'\"Sepal.Length\",\"Sepal.Width\",\"Petal.Length\",\"Petal.Width\",\"Species\"\\r\\n5.1,3.5,1.4,0.2,\"setosa\"\\r\\n4.9,3,1.4,0.2,\"setosa\"\\r\\n4.7,3.2,1.3,0.2,\"setosa\"\\r\\n4.6,3.1,1.5,0.2,\"setosa\"\\r\\n5,3.6,1.4,0.2,\"setosa\"\\r\\n5.4,3.9,1.7,0.4,\"setosa\"\\r\\n4.6,3.4,1.4,0.3,\"setosa\"\\r\\n5,3.4,1.5,0.2,\"setosa\"\\r\\n4.4,2.9,1.4,0.2,\"setosa\"\\r\\n4.9,3.1,1.5,0.1,\"setosa\"\\r\\n5.4,3.7,1.5,0.2,\"setosa\"\\r\\n4.8,3.4,1.6,0.2,\"setosa\"\\r\\n4.8,3,1.4,0.1,\"setosa\"\\r\\n4.3,3,1.1,0.1,\"setosa\"\\r\\n5.8,4,1.2,0.2,\"setosa\"\\r\\n5.7,4.4,1.5,0.4,\"setosa\"\\r\\n5.4,3.9,1.3,0.4,\"setosa\"\\r\\n5.1,3.5,1.4,0.3,\"setosa\"\\r\\n5.7,3.8,1.7,0.3,\"setosa\"\\r\\n5.1,3.8,1.5,0.3,\"setosa\"\\r\\n5.4,3.4,1.7,0.2,\"setosa\"\\r\\n5.1,3.7,1.5,0.4,\"setosa\"\\r\\n4.6,3.6,1,0.2,\"setosa\"\\r\\n5.1,3.3,1.7,0.5,\"setosa\"\\r\\n4.8,3.4,1.9,0.2,\"setosa\"\\r\\n5,3,1.6,0.2,\"setosa\"\\r\\n5,3.4,1.6,0.4,\"setosa\"\\r\\n5.2,3.5,1.5,0.2,\"setosa\"\\r\\n5.2,3.4,1.4,0.2,\"setosa\"\\r\\n4.7,3.2,1.6,0.2,\"setosa\"\\r\\n4.8,3.1,1.6,0.2,\"setosa\"\\r\\n5.4,3.4,1.5,0.4,\"setosa\"\\r\\n5.2,4.1,1.5,0.1,\"setosa\"\\r\\n5.5,4.2,1.4,0.2,\"setosa\"\\r\\n4.9,3.1,1.5,0.2,\"setosa\"\\r\\n5,3.2,1.2,0.2,\"setosa\"\\r\\n5.5,3.5,1.3,0.2,\"setosa\"\\r\\n4.9,3.6,1.4,0.1,\"setosa\"\\r\\n4.4,3,1.3,0.2,\"setosa\"\\r\\n5.1,3.4,1.5,0.2,\"setosa\"\\r\\n5,3.5,1.3,0.3,\"setosa\"\\r\\n4.5,2.3,1.3,0.3,\"setosa\"\\r\\n4.4,3.2,1.3,0.2,\"setosa\"\\r\\n5,3.5,1.6,0.6,\"setosa\"\\r\\n5.1,3.8,1.9,0.4,\"setosa\"\\r\\n4.8,3,1.4,0.3,\"setosa\"\\r\\n5.1,3.8,1.6,0.2,\"setosa\"\\r\\n4.6,3.2,1.4,0.2,\"setosa\"\\r\\n5.3,3.7,1.5,0.2,\"setosa\"\\r\\n5,3.3,1.4,0.2,\"setosa\"\\r\\n7,3.2,4.7,1.4,\"versicolor\"\\r\\n6.4,3.2,4.5,1.5,\"versicolor\"\\r\\n6.9,3.1,4.9,1.5,\"versicolor\"\\r\\n5.5,2.3,4,1.3,\"versicolor\"\\r\\n6.5,2.8,4.6,1.5,\"versicolor\"\\r\\n5.7,2.8,4.5,1.3,\"versicolor\"\\r\\n6.3,3.3,4.7,1.6,\"versicolor\"\\r\\n4.9,2.4,3.3,1,\"versicolor\"\\r\\n6.6,2.9,4.6,1.3,\"versicolor\"\\r\\n5.2,2.7,3.9,1.4,\"versicolor\"\\r\\n5,2,3.5,1,\"versicolor\"\\r\\n5.9,3,4.2,1.5,\"versicolor\"\\r\\n6,2.2,4,1,\"versicolor\"\\r\\n6.1,2.9,4.7,1.4,\"versicolor\"\\r\\n5.6,2.9,3.6,1.3,\"versicolor\"\\r\\n6.7,3.1,4.4,1.4,\"versicolor\"\\r\\n5.6,3,4.5,1.5,\"versicolor\"\\r\\n5.8,2.7,4.1,1,\"versicolor\"\\r\\n6.2,2.2,4.5,1.5,\"versicolor\"\\r\\n5.6,2.5,3.9,1.1,\"versicolor\"\\r\\n5.9,3.2,4.8,1.8,\"versicolor\"\\r\\n6.1,2.8,4,1.3,\"versicolor\"\\r\\n6.3,2.5,4.9,1.5,\"versicolor\"\\r\\n6.1,2.8,4.7,1.2,\"versicolor\"\\r\\n6.4,2.9,4.3,1.3,\"versicolor\"\\r\\n6.6,3,4.4,1.4,\"versicolor\"\\r\\n6.8,2.8,4.8,1.4,\"versicolor\"\\r\\n6.7,3,5,1.7,\"versicolor\"\\r\\n6,2.9,4.5,1.5,\"versicolor\"\\r\\n5.7,2.6,3.5,1,\"versicolor\"\\r\\n5.5,2.4,3.8,1.1,\"versicolor\"\\r\\n5.5,2.4,3.7,1,\"versicolor\"\\r\\n5.8,2.7,3.9,1.2,\"versicolor\"\\r\\n6,2.7,5.1,1.6,\"versicolor\"\\r\\n5.4,3,4.5,1.5,\"versicolor\"\\r\\n6,3.4,4.5,1.6,\"versicolor\"\\r\\n6.7,3.1,4.7,1.5,\"versicolor\"\\r\\n6.3,2.3,4.4,1.3,\"versicolor\"\\r\\n5.6,3,4.1,1.3,\"versicolor\"\\r\\n5.5,2.5,4,1.3,\"versicolor\"\\r\\n5.5,2.6,4.4,1.2,\"versicolor\"\\r\\n6.1,3,4.6,1.4,\"versicolor\"\\r\\n5.8,2.6,4,1.2,\"versicolor\"\\r\\n5,2.3,3.3,1,\"versicolor\"\\r\\n5.6,2.7,4.2,1.3,\"versicolor\"\\r\\n5.7,3,4.2,1.2,\"versicolor\"\\r\\n5.7,2.9,4.2,1.3,\"versicolor\"\\r\\n6.2,2.9,4.3,1.3,\"versicolor\"\\r\\n5.1,2.5,3,1.1,\"versicolor\"\\r\\n5.7,2.8,4.1,1.3,\"versicolor\"\\r\\n6.3,3.3,6,2.5,\"virginica\"\\r\\n5.8,2.7,5.1,1.9,\"virginica\"\\r\\n7.1,3,5.9,2.1,\"virginica\"\\r\\n6.3,2.9,5.6,1.8,\"virginica\"\\r\\n6.5,3,5.8,2.2,\"virginica\"\\r\\n7.6,3,6.6,2.1,\"virginica\"\\r\\n4.9,2.5,4.5,1.7,\"virginica\"\\r\\n7.3,2.9,6.3,1.8,\"virginica\"\\r\\n6.7,2.5,5.8,1.8,\"virginica\"\\r\\n7.2,3.6,6.1,2.5,\"virginica\"\\r\\n6.5,3.2,5.1,2,\"virginica\"\\r\\n6.4,2.7,5.3,1.9,\"virginica\"\\r\\n6.8,3,5.5,2.1,\"virginica\"\\r\\n5.7,2.5,5,2,\"virginica\"\\r\\n5.8,2.8,5.1,2.4,\"virginica\"\\r\\n6.4,3.2,5.3,2.3,\"virginica\"\\r\\n6.5,3,5.5,1.8,\"virginica\"\\r\\n7.7,3.8,6.7,2.2,\"virginica\"\\r\\n7.7,2.6,6.9,2.3,\"virginica\"\\r\\n6,2.2,5,1.5,\"virginica\"\\r\\n6.9,3.2,5.7,2.3,\"virginica\"\\r\\n5.6,2.8,4.9,2,\"virginica\"\\r\\n7.7,2.8,6.7,2,\"virginica\"\\r\\n6.3,2.7,4.9,1.8,\"virginica\"\\r\\n6.7,3.3,5.7,2.1,\"virginica\"\\r\\n7.2,3.2,6,1.8,\"virginica\"\\r\\n6.2,2.8,4.8,1.8,\"virginica\"\\r\\n6.1,3,4.9,1.8,\"virginica\"\\r\\n6.4,2.8,5.6,2.1,\"virginica\"\\r\\n7.2,3,5.8,1.6,\"virginica\"\\r\\n7.4,2.8,6.1,1.9,\"virginica\"\\r\\n7.9,3.8,6.4,2,\"virginica\"\\r\\n6.4,2.8,5.6,2.2,\"virginica\"\\r\\n6.3,2.8,5.1,1.5,\"virginica\"\\r\\n6.1,2.6,5.6,1.4,\"virginica\"\\r\\n7.7,3,6.1,2.3,\"virginica\"\\r\\n6.3,3.4,5.6,2.4,\"virginica\"\\r\\n6.4,3.1,5.5,1.8,\"virginica\"\\r\\n6,3,4.8,1.8,\"virginica\"\\r\\n6.9,3.1,5.4,2.1,\"virginica\"\\r\\n6.7,3.1,5.6,2.4,\"virginica\"\\r\\n6.9,3.1,5.1,2.3,\"virginica\"\\r\\n5.8,2.7,5.1,1.9,\"virginica\"\\r\\n6.8,3.2,5.9,2.3,\"virginica\"\\r\\n6.7,3.3,5.7,2.5,\"virginica\"\\r\\n6.7,3,5.2,2.3,\"virginica\"\\r\\n6.3,2.5,5,1.9,\"virginica\"\\r\\n6.5,3,5.2,2,\"virginica\"\\r\\n6.2,3.4,5.4,2.3,\"virginica\"\\r\\n5.9,3,5.1,1.8,\"virginica\"\\r\\n'}"
            ]
          },
          "metadata": {
            "tags": []
          },
          "execution_count": 38
        }
      ]
    },
    {
      "cell_type": "code",
      "metadata": {
        "id": "V8UT55YnB9gO",
        "colab_type": "code",
        "colab": {
          "base_uri": "https://localhost:8080/",
          "height": 85
        },
        "outputId": "de75bcf0-b0e3-4d30-d9f1-7fb67d770477"
      },
      "source": [
        "!ls \"/content/drive/My Drive/Yogesh BGLR/Sept'19\""
      ],
      "execution_count": 42,
      "outputs": [
        {
          "output_type": "stream",
          "text": [
            "'15 Decision Tree.ipynb'    'Sep 19.mp4'  'Sep 25.mp4'\t  Universities.gsheet\n",
            " DT.R\t\t\t    'Sep 20.mp4'  'Sep 30.mp4'\t 'wine (1).gsheet'\n",
            " iris.gsheet\t\t    'Sep 23.mp4'  'Sept 09.mp4'   wine.gsheet\n",
            "'pca code_uniclustering.R'  'Sep 24.mp4'  'Sept 11.mp4'\n"
          ],
          "name": "stdout"
        }
      ]
    },
    {
      "cell_type": "code",
      "metadata": {
        "id": "S6ULi1QIDXLO",
        "colab_type": "code",
        "colab": {}
      },
      "source": [
        "import numpy as np\n",
        "import pandas as pd\n",
        "import matplotlib.pyplot as plt"
      ],
      "execution_count": 0,
      "outputs": []
    },
    {
      "cell_type": "code",
      "metadata": {
        "id": "WHu4A5WzDfIW",
        "colab_type": "code",
        "colab": {}
      },
      "source": [
        "Data = \"/content/drive/My Drive/Yogesh BGLR/Sept'19/iris.gsheet\""
      ],
      "execution_count": 0,
      "outputs": []
    },
    {
      "cell_type": "code",
      "metadata": {
        "id": "VDNqS_8zDoyk",
        "colab_type": "code",
        "colab": {}
      },
      "source": [
        "mydata = pd.read_csv('iris.csv')"
      ],
      "execution_count": 0,
      "outputs": []
    },
    {
      "cell_type": "code",
      "metadata": {
        "id": "L10RJY1LE5Bv",
        "colab_type": "code",
        "colab": {
          "base_uri": "https://localhost:8080/",
          "height": 419
        },
        "outputId": "1a9048f1-b2e1-4ec8-f448-40efae3178b2"
      },
      "source": [
        "mydata"
      ],
      "execution_count": 50,
      "outputs": [
        {
          "output_type": "execute_result",
          "data": {
            "text/html": [
              "<div>\n",
              "<style scoped>\n",
              "    .dataframe tbody tr th:only-of-type {\n",
              "        vertical-align: middle;\n",
              "    }\n",
              "\n",
              "    .dataframe tbody tr th {\n",
              "        vertical-align: top;\n",
              "    }\n",
              "\n",
              "    .dataframe thead th {\n",
              "        text-align: right;\n",
              "    }\n",
              "</style>\n",
              "<table border=\"1\" class=\"dataframe\">\n",
              "  <thead>\n",
              "    <tr style=\"text-align: right;\">\n",
              "      <th></th>\n",
              "      <th>Sepal.Length</th>\n",
              "      <th>Sepal.Width</th>\n",
              "      <th>Petal.Length</th>\n",
              "      <th>Petal.Width</th>\n",
              "      <th>Species</th>\n",
              "    </tr>\n",
              "  </thead>\n",
              "  <tbody>\n",
              "    <tr>\n",
              "      <th>0</th>\n",
              "      <td>5.1</td>\n",
              "      <td>3.5</td>\n",
              "      <td>1.4</td>\n",
              "      <td>0.2</td>\n",
              "      <td>setosa</td>\n",
              "    </tr>\n",
              "    <tr>\n",
              "      <th>1</th>\n",
              "      <td>4.9</td>\n",
              "      <td>3.0</td>\n",
              "      <td>1.4</td>\n",
              "      <td>0.2</td>\n",
              "      <td>setosa</td>\n",
              "    </tr>\n",
              "    <tr>\n",
              "      <th>2</th>\n",
              "      <td>4.7</td>\n",
              "      <td>3.2</td>\n",
              "      <td>1.3</td>\n",
              "      <td>0.2</td>\n",
              "      <td>setosa</td>\n",
              "    </tr>\n",
              "    <tr>\n",
              "      <th>3</th>\n",
              "      <td>4.6</td>\n",
              "      <td>3.1</td>\n",
              "      <td>1.5</td>\n",
              "      <td>0.2</td>\n",
              "      <td>setosa</td>\n",
              "    </tr>\n",
              "    <tr>\n",
              "      <th>4</th>\n",
              "      <td>5.0</td>\n",
              "      <td>3.6</td>\n",
              "      <td>1.4</td>\n",
              "      <td>0.2</td>\n",
              "      <td>setosa</td>\n",
              "    </tr>\n",
              "    <tr>\n",
              "      <th>...</th>\n",
              "      <td>...</td>\n",
              "      <td>...</td>\n",
              "      <td>...</td>\n",
              "      <td>...</td>\n",
              "      <td>...</td>\n",
              "    </tr>\n",
              "    <tr>\n",
              "      <th>145</th>\n",
              "      <td>6.7</td>\n",
              "      <td>3.0</td>\n",
              "      <td>5.2</td>\n",
              "      <td>2.3</td>\n",
              "      <td>virginica</td>\n",
              "    </tr>\n",
              "    <tr>\n",
              "      <th>146</th>\n",
              "      <td>6.3</td>\n",
              "      <td>2.5</td>\n",
              "      <td>5.0</td>\n",
              "      <td>1.9</td>\n",
              "      <td>virginica</td>\n",
              "    </tr>\n",
              "    <tr>\n",
              "      <th>147</th>\n",
              "      <td>6.5</td>\n",
              "      <td>3.0</td>\n",
              "      <td>5.2</td>\n",
              "      <td>2.0</td>\n",
              "      <td>virginica</td>\n",
              "    </tr>\n",
              "    <tr>\n",
              "      <th>148</th>\n",
              "      <td>6.2</td>\n",
              "      <td>3.4</td>\n",
              "      <td>5.4</td>\n",
              "      <td>2.3</td>\n",
              "      <td>virginica</td>\n",
              "    </tr>\n",
              "    <tr>\n",
              "      <th>149</th>\n",
              "      <td>5.9</td>\n",
              "      <td>3.0</td>\n",
              "      <td>5.1</td>\n",
              "      <td>1.8</td>\n",
              "      <td>virginica</td>\n",
              "    </tr>\n",
              "  </tbody>\n",
              "</table>\n",
              "<p>150 rows × 5 columns</p>\n",
              "</div>"
            ],
            "text/plain": [
              "     Sepal.Length  Sepal.Width  Petal.Length  Petal.Width    Species\n",
              "0             5.1          3.5           1.4          0.2     setosa\n",
              "1             4.9          3.0           1.4          0.2     setosa\n",
              "2             4.7          3.2           1.3          0.2     setosa\n",
              "3             4.6          3.1           1.5          0.2     setosa\n",
              "4             5.0          3.6           1.4          0.2     setosa\n",
              "..            ...          ...           ...          ...        ...\n",
              "145           6.7          3.0           5.2          2.3  virginica\n",
              "146           6.3          2.5           5.0          1.9  virginica\n",
              "147           6.5          3.0           5.2          2.0  virginica\n",
              "148           6.2          3.4           5.4          2.3  virginica\n",
              "149           5.9          3.0           5.1          1.8  virginica\n",
              "\n",
              "[150 rows x 5 columns]"
            ]
          },
          "metadata": {
            "tags": []
          },
          "execution_count": 50
        }
      ]
    }
  ]
}