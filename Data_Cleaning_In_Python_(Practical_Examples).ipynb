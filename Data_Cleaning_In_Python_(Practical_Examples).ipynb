{
  "nbformat": 4,
  "nbformat_minor": 0,
  "metadata": {
    "colab": {
      "name": "Data Cleaning In Python (Practical Examples).ipynb",
      "provenance": [],
      "authorship_tag": "ABX9TyNNq5N3DeXluWVnc+tqIRFw",
      "include_colab_link": true
    },
    "kernelspec": {
      "name": "python3",
      "display_name": "Python 3"
    }
  },
  "cells": [
    {
      "cell_type": "markdown",
      "metadata": {
        "id": "view-in-github",
        "colab_type": "text"
      },
      "source": [
        "<a href=\"https://colab.research.google.com/github/sriramabonam/Data-Science-Portfolio/blob/master/Data_Cleaning_In_Python_(Practical_Examples).ipynb\" target=\"_parent\"><img src=\"https://colab.research.google.com/assets/colab-badge.svg\" alt=\"Open In Colab\"/></a>"
      ]
    },
    {
      "cell_type": "code",
      "metadata": {
        "id": "OuvKnr-TMgX0",
        "colab_type": "code",
        "colab": {
          "resources": {
            "http://localhost:8080/nbextensions/google.colab/files.js": {
              "data": "Ly8gQ29weXJpZ2h0IDIwMTcgR29vZ2xlIExMQwovLwovLyBMaWNlbnNlZCB1bmRlciB0aGUgQXBhY2hlIExpY2Vuc2UsIFZlcnNpb24gMi4wICh0aGUgIkxpY2Vuc2UiKTsKLy8geW91IG1heSBub3QgdXNlIHRoaXMgZmlsZSBleGNlcHQgaW4gY29tcGxpYW5jZSB3aXRoIHRoZSBMaWNlbnNlLgovLyBZb3UgbWF5IG9idGFpbiBhIGNvcHkgb2YgdGhlIExpY2Vuc2UgYXQKLy8KLy8gICAgICBodHRwOi8vd3d3LmFwYWNoZS5vcmcvbGljZW5zZXMvTElDRU5TRS0yLjAKLy8KLy8gVW5sZXNzIHJlcXVpcmVkIGJ5IGFwcGxpY2FibGUgbGF3IG9yIGFncmVlZCB0byBpbiB3cml0aW5nLCBzb2Z0d2FyZQovLyBkaXN0cmlidXRlZCB1bmRlciB0aGUgTGljZW5zZSBpcyBkaXN0cmlidXRlZCBvbiBhbiAiQVMgSVMiIEJBU0lTLAovLyBXSVRIT1VUIFdBUlJBTlRJRVMgT1IgQ09ORElUSU9OUyBPRiBBTlkgS0lORCwgZWl0aGVyIGV4cHJlc3Mgb3IgaW1wbGllZC4KLy8gU2VlIHRoZSBMaWNlbnNlIGZvciB0aGUgc3BlY2lmaWMgbGFuZ3VhZ2UgZ292ZXJuaW5nIHBlcm1pc3Npb25zIGFuZAovLyBsaW1pdGF0aW9ucyB1bmRlciB0aGUgTGljZW5zZS4KCi8qKgogKiBAZmlsZW92ZXJ2aWV3IEhlbHBlcnMgZm9yIGdvb2dsZS5jb2xhYiBQeXRob24gbW9kdWxlLgogKi8KKGZ1bmN0aW9uKHNjb3BlKSB7CmZ1bmN0aW9uIHNwYW4odGV4dCwgc3R5bGVBdHRyaWJ1dGVzID0ge30pIHsKICBjb25zdCBlbGVtZW50ID0gZG9jdW1lbnQuY3JlYXRlRWxlbWVudCgnc3BhbicpOwogIGVsZW1lbnQudGV4dENvbnRlbnQgPSB0ZXh0OwogIGZvciAoY29uc3Qga2V5IG9mIE9iamVjdC5rZXlzKHN0eWxlQXR0cmlidXRlcykpIHsKICAgIGVsZW1lbnQuc3R5bGVba2V5XSA9IHN0eWxlQXR0cmlidXRlc1trZXldOwogIH0KICByZXR1cm4gZWxlbWVudDsKfQoKLy8gTWF4IG51bWJlciBvZiBieXRlcyB3aGljaCB3aWxsIGJlIHVwbG9hZGVkIGF0IGEgdGltZS4KY29uc3QgTUFYX1BBWUxPQURfU0laRSA9IDEwMCAqIDEwMjQ7Ci8vIE1heCBhbW91bnQgb2YgdGltZSB0byBibG9jayB3YWl0aW5nIGZvciB0aGUgdXNlci4KY29uc3QgRklMRV9DSEFOR0VfVElNRU9VVF9NUyA9IDMwICogMTAwMDsKCmZ1bmN0aW9uIF91cGxvYWRGaWxlcyhpbnB1dElkLCBvdXRwdXRJZCkgewogIGNvbnN0IHN0ZXBzID0gdXBsb2FkRmlsZXNTdGVwKGlucHV0SWQsIG91dHB1dElkKTsKICBjb25zdCBvdXRwdXRFbGVtZW50ID0gZG9jdW1lbnQuZ2V0RWxlbWVudEJ5SWQob3V0cHV0SWQpOwogIC8vIENhY2hlIHN0ZXBzIG9uIHRoZSBvdXRwdXRFbGVtZW50IHRvIG1ha2UgaXQgYXZhaWxhYmxlIGZvciB0aGUgbmV4dCBjYWxsCiAgLy8gdG8gdXBsb2FkRmlsZXNDb250aW51ZSBmcm9tIFB5dGhvbi4KICBvdXRwdXRFbGVtZW50LnN0ZXBzID0gc3RlcHM7CgogIHJldHVybiBfdXBsb2FkRmlsZXNDb250aW51ZShvdXRwdXRJZCk7Cn0KCi8vIFRoaXMgaXMgcm91Z2hseSBhbiBhc3luYyBnZW5lcmF0b3IgKG5vdCBzdXBwb3J0ZWQgaW4gdGhlIGJyb3dzZXIgeWV0KSwKLy8gd2hlcmUgdGhlcmUgYXJlIG11bHRpcGxlIGFzeW5jaHJvbm91cyBzdGVwcyBhbmQgdGhlIFB5dGhvbiBzaWRlIGlzIGdvaW5nCi8vIHRvIHBvbGwgZm9yIGNvbXBsZXRpb24gb2YgZWFjaCBzdGVwLgovLyBUaGlzIHVzZXMgYSBQcm9taXNlIHRvIGJsb2NrIHRoZSBweXRob24gc2lkZSBvbiBjb21wbGV0aW9uIG9mIGVhY2ggc3RlcCwKLy8gdGhlbiBwYXNzZXMgdGhlIHJlc3VsdCBvZiB0aGUgcHJldmlvdXMgc3RlcCBhcyB0aGUgaW5wdXQgdG8gdGhlIG5leHQgc3RlcC4KZnVuY3Rpb24gX3VwbG9hZEZpbGVzQ29udGludWUob3V0cHV0SWQpIHsKICBjb25zdCBvdXRwdXRFbGVtZW50ID0gZG9jdW1lbnQuZ2V0RWxlbWVudEJ5SWQob3V0cHV0SWQpOwogIGNvbnN0IHN0ZXBzID0gb3V0cHV0RWxlbWVudC5zdGVwczsKCiAgY29uc3QgbmV4dCA9IHN0ZXBzLm5leHQob3V0cHV0RWxlbWVudC5sYXN0UHJvbWlzZVZhbHVlKTsKICByZXR1cm4gUHJvbWlzZS5yZXNvbHZlKG5leHQudmFsdWUucHJvbWlzZSkudGhlbigodmFsdWUpID0+IHsKICAgIC8vIENhY2hlIHRoZSBsYXN0IHByb21pc2UgdmFsdWUgdG8gbWFrZSBpdCBhdmFpbGFibGUgdG8gdGhlIG5leHQKICAgIC8vIHN0ZXAgb2YgdGhlIGdlbmVyYXRvci4KICAgIG91dHB1dEVsZW1lbnQubGFzdFByb21pc2VWYWx1ZSA9IHZhbHVlOwogICAgcmV0dXJuIG5leHQudmFsdWUucmVzcG9uc2U7CiAgfSk7Cn0KCi8qKgogKiBHZW5lcmF0b3IgZnVuY3Rpb24gd2hpY2ggaXMgY2FsbGVkIGJldHdlZW4gZWFjaCBhc3luYyBzdGVwIG9mIHRoZSB1cGxvYWQKICogcHJvY2Vzcy4KICogQHBhcmFtIHtzdHJpbmd9IGlucHV0SWQgRWxlbWVudCBJRCBvZiB0aGUgaW5wdXQgZmlsZSBwaWNrZXIgZWxlbWVudC4KICogQHBhcmFtIHtzdHJpbmd9IG91dHB1dElkIEVsZW1lbnQgSUQgb2YgdGhlIG91dHB1dCBkaXNwbGF5LgogKiBAcmV0dXJuIHshSXRlcmFibGU8IU9iamVjdD59IEl0ZXJhYmxlIG9mIG5leHQgc3RlcHMuCiAqLwpmdW5jdGlvbiogdXBsb2FkRmlsZXNTdGVwKGlucHV0SWQsIG91dHB1dElkKSB7CiAgY29uc3QgaW5wdXRFbGVtZW50ID0gZG9jdW1lbnQuZ2V0RWxlbWVudEJ5SWQoaW5wdXRJZCk7CiAgaW5wdXRFbGVtZW50LmRpc2FibGVkID0gZmFsc2U7CgogIGNvbnN0IG91dHB1dEVsZW1lbnQgPSBkb2N1bWVudC5nZXRFbGVtZW50QnlJZChvdXRwdXRJZCk7CiAgb3V0cHV0RWxlbWVudC5pbm5lckhUTUwgPSAnJzsKCiAgY29uc3QgcGlja2VkUHJvbWlzZSA9IG5ldyBQcm9taXNlKChyZXNvbHZlKSA9PiB7CiAgICBpbnB1dEVsZW1lbnQuYWRkRXZlbnRMaXN0ZW5lcignY2hhbmdlJywgKGUpID0+IHsKICAgICAgcmVzb2x2ZShlLnRhcmdldC5maWxlcyk7CiAgICB9KTsKICB9KTsKCiAgY29uc3QgY2FuY2VsID0gZG9jdW1lbnQuY3JlYXRlRWxlbWVudCgnYnV0dG9uJyk7CiAgaW5wdXRFbGVtZW50LnBhcmVudEVsZW1lbnQuYXBwZW5kQ2hpbGQoY2FuY2VsKTsKICBjYW5jZWwudGV4dENvbnRlbnQgPSAnQ2FuY2VsIHVwbG9hZCc7CiAgY29uc3QgY2FuY2VsUHJvbWlzZSA9IG5ldyBQcm9taXNlKChyZXNvbHZlKSA9PiB7CiAgICBjYW5jZWwub25jbGljayA9ICgpID0+IHsKICAgICAgcmVzb2x2ZShudWxsKTsKICAgIH07CiAgfSk7CgogIC8vIENhbmNlbCB1cGxvYWQgaWYgdXNlciBoYXNuJ3QgcGlja2VkIGFueXRoaW5nIGluIHRpbWVvdXQuCiAgY29uc3QgdGltZW91dFByb21pc2UgPSBuZXcgUHJvbWlzZSgocmVzb2x2ZSkgPT4gewogICAgc2V0VGltZW91dCgoKSA9PiB7CiAgICAgIHJlc29sdmUobnVsbCk7CiAgICB9LCBGSUxFX0NIQU5HRV9USU1FT1VUX01TKTsKICB9KTsKCiAgLy8gV2FpdCBmb3IgdGhlIHVzZXIgdG8gcGljayB0aGUgZmlsZXMuCiAgY29uc3QgZmlsZXMgPSB5aWVsZCB7CiAgICBwcm9taXNlOiBQcm9taXNlLnJhY2UoW3BpY2tlZFByb21pc2UsIHRpbWVvdXRQcm9taXNlLCBjYW5jZWxQcm9taXNlXSksCiAgICByZXNwb25zZTogewogICAgICBhY3Rpb246ICdzdGFydGluZycsCiAgICB9CiAgfTsKCiAgaWYgKCFmaWxlcykgewogICAgcmV0dXJuIHsKICAgICAgcmVzcG9uc2U6IHsKICAgICAgICBhY3Rpb246ICdjb21wbGV0ZScsCiAgICAgIH0KICAgIH07CiAgfQoKICBjYW5jZWwucmVtb3ZlKCk7CgogIC8vIERpc2FibGUgdGhlIGlucHV0IGVsZW1lbnQgc2luY2UgZnVydGhlciBwaWNrcyBhcmUgbm90IGFsbG93ZWQuCiAgaW5wdXRFbGVtZW50LmRpc2FibGVkID0gdHJ1ZTsKCiAgZm9yIChjb25zdCBmaWxlIG9mIGZpbGVzKSB7CiAgICBjb25zdCBsaSA9IGRvY3VtZW50LmNyZWF0ZUVsZW1lbnQoJ2xpJyk7CiAgICBsaS5hcHBlbmQoc3BhbihmaWxlLm5hbWUsIHtmb250V2VpZ2h0OiAnYm9sZCd9KSk7CiAgICBsaS5hcHBlbmQoc3BhbigKICAgICAgICBgKCR7ZmlsZS50eXBlIHx8ICduL2EnfSkgLSAke2ZpbGUuc2l6ZX0gYnl0ZXMsIGAgKwogICAgICAgIGBsYXN0IG1vZGlmaWVkOiAkewogICAgICAgICAgICBmaWxlLmxhc3RNb2RpZmllZERhdGUgPyBmaWxlLmxhc3RNb2RpZmllZERhdGUudG9Mb2NhbGVEYXRlU3RyaW5nKCkgOgogICAgICAgICAgICAgICAgICAgICAgICAgICAgICAgICAgICAnbi9hJ30gLSBgKSk7CiAgICBjb25zdCBwZXJjZW50ID0gc3BhbignMCUgZG9uZScpOwogICAgbGkuYXBwZW5kQ2hpbGQocGVyY2VudCk7CgogICAgb3V0cHV0RWxlbWVudC5hcHBlbmRDaGlsZChsaSk7CgogICAgY29uc3QgZmlsZURhdGFQcm9taXNlID0gbmV3IFByb21pc2UoKHJlc29sdmUpID0+IHsKICAgICAgY29uc3QgcmVhZGVyID0gbmV3IEZpbGVSZWFkZXIoKTsKICAgICAgcmVhZGVyLm9ubG9hZCA9IChlKSA9PiB7CiAgICAgICAgcmVzb2x2ZShlLnRhcmdldC5yZXN1bHQpOwogICAgICB9OwogICAgICByZWFkZXIucmVhZEFzQXJyYXlCdWZmZXIoZmlsZSk7CiAgICB9KTsKICAgIC8vIFdhaXQgZm9yIHRoZSBkYXRhIHRvIGJlIHJlYWR5LgogICAgbGV0IGZpbGVEYXRhID0geWllbGQgewogICAgICBwcm9taXNlOiBmaWxlRGF0YVByb21pc2UsCiAgICAgIHJlc3BvbnNlOiB7CiAgICAgICAgYWN0aW9uOiAnY29udGludWUnLAogICAgICB9CiAgICB9OwoKICAgIC8vIFVzZSBhIGNodW5rZWQgc2VuZGluZyB0byBhdm9pZCBtZXNzYWdlIHNpemUgbGltaXRzLiBTZWUgYi82MjExNTY2MC4KICAgIGxldCBwb3NpdGlvbiA9IDA7CiAgICB3aGlsZSAocG9zaXRpb24gPCBmaWxlRGF0YS5ieXRlTGVuZ3RoKSB7CiAgICAgIGNvbnN0IGxlbmd0aCA9IE1hdGgubWluKGZpbGVEYXRhLmJ5dGVMZW5ndGggLSBwb3NpdGlvbiwgTUFYX1BBWUxPQURfU0laRSk7CiAgICAgIGNvbnN0IGNodW5rID0gbmV3IFVpbnQ4QXJyYXkoZmlsZURhdGEsIHBvc2l0aW9uLCBsZW5ndGgpOwogICAgICBwb3NpdGlvbiArPSBsZW5ndGg7CgogICAgICBjb25zdCBiYXNlNjQgPSBidG9hKFN0cmluZy5mcm9tQ2hhckNvZGUuYXBwbHkobnVsbCwgY2h1bmspKTsKICAgICAgeWllbGQgewogICAgICAgIHJlc3BvbnNlOiB7CiAgICAgICAgICBhY3Rpb246ICdhcHBlbmQnLAogICAgICAgICAgZmlsZTogZmlsZS5uYW1lLAogICAgICAgICAgZGF0YTogYmFzZTY0LAogICAgICAgIH0sCiAgICAgIH07CiAgICAgIHBlcmNlbnQudGV4dENvbnRlbnQgPQogICAgICAgICAgYCR7TWF0aC5yb3VuZCgocG9zaXRpb24gLyBmaWxlRGF0YS5ieXRlTGVuZ3RoKSAqIDEwMCl9JSBkb25lYDsKICAgIH0KICB9CgogIC8vIEFsbCBkb25lLgogIHlpZWxkIHsKICAgIHJlc3BvbnNlOiB7CiAgICAgIGFjdGlvbjogJ2NvbXBsZXRlJywKICAgIH0KICB9Owp9CgpzY29wZS5nb29nbGUgPSBzY29wZS5nb29nbGUgfHwge307CnNjb3BlLmdvb2dsZS5jb2xhYiA9IHNjb3BlLmdvb2dsZS5jb2xhYiB8fCB7fTsKc2NvcGUuZ29vZ2xlLmNvbGFiLl9maWxlcyA9IHsKICBfdXBsb2FkRmlsZXMsCiAgX3VwbG9hZEZpbGVzQ29udGludWUsCn07Cn0pKHNlbGYpOwo=",
              "ok": true,
              "headers": [
                [
                  "content-type",
                  "application/javascript"
                ]
              ],
              "status": 200,
              "status_text": "OK"
            }
          },
          "base_uri": "https://localhost:8080/",
          "height": 77
        },
        "outputId": "0cf1ba35-33a7-4493-dd83-e613f009676c"
      },
      "source": [
        "from google.colab import files\n",
        "uploaded = files.upload()"
      ],
      "execution_count": 33,
      "outputs": [
        {
          "output_type": "display_data",
          "data": {
            "text/html": [
              "\n",
              "     <input type=\"file\" id=\"files-005bda79-6327-41c0-b7e5-9d178836d876\" name=\"files[]\" multiple disabled />\n",
              "     <output id=\"result-005bda79-6327-41c0-b7e5-9d178836d876\">\n",
              "      Upload widget is only available when the cell has been executed in the\n",
              "      current browser session. Please rerun this cell to enable.\n",
              "      </output>\n",
              "      <script src=\"/nbextensions/google.colab/files.js\"></script> "
            ],
            "text/plain": [
              "<IPython.core.display.HTML object>"
            ]
          },
          "metadata": {
            "tags": []
          }
        },
        {
          "output_type": "stream",
          "text": [
            "Saving unclean_data.csv to unclean_data.csv\n"
          ],
          "name": "stdout"
        }
      ]
    },
    {
      "cell_type": "code",
      "metadata": {
        "id": "zDjRVHmcTeoL",
        "colab_type": "code",
        "colab": {}
      },
      "source": [
        "import pandas as pd"
      ],
      "execution_count": 0,
      "outputs": []
    },
    {
      "cell_type": "code",
      "metadata": {
        "id": "MfzPGyMfMuyO",
        "colab_type": "code",
        "colab": {}
      },
      "source": [
        "df = pd.read_csv('/content/unclean_data.csv', encoding = \"ISO-8859-1\")"
      ],
      "execution_count": 0,
      "outputs": []
    },
    {
      "cell_type": "code",
      "metadata": {
        "id": "IMHVKXAuVVg9",
        "colab_type": "code",
        "colab": {
          "base_uri": "https://localhost:8080/",
          "height": 330
        },
        "outputId": "a4696be2-dc3e-4978-e05e-981e7e5e66f6"
      },
      "source": [
        "df.head()"
      ],
      "execution_count": 42,
      "outputs": [
        {
          "output_type": "execute_result",
          "data": {
            "text/html": [
              "<div>\n",
              "<style scoped>\n",
              "    .dataframe tbody tr th:only-of-type {\n",
              "        vertical-align: middle;\n",
              "    }\n",
              "\n",
              "    .dataframe tbody tr th {\n",
              "        vertical-align: top;\n",
              "    }\n",
              "\n",
              "    .dataframe thead th {\n",
              "        text-align: right;\n",
              "    }\n",
              "</style>\n",
              "<table border=\"1\" class=\"dataframe\">\n",
              "  <thead>\n",
              "    <tr style=\"text-align: right;\">\n",
              "      <th></th>\n",
              "      <th>movie_title</th>\n",
              "      <th>num_critic_for_reviews</th>\n",
              "      <th>duration</th>\n",
              "      <th>DIRECTOR_facebook_likes</th>\n",
              "      <th>actor_3_facebook_likes</th>\n",
              "      <th>ACTOR_1_facebook_likes</th>\n",
              "      <th>gross</th>\n",
              "      <th>num_voted_users</th>\n",
              "      <th>Cast_Total_facebook_likes</th>\n",
              "      <th>facenumber_in_poster</th>\n",
              "      <th>num_user_for_reviews</th>\n",
              "      <th>budget</th>\n",
              "      <th>title_year</th>\n",
              "      <th>ACTOR_2_facebook_likes</th>\n",
              "      <th>imdb_score</th>\n",
              "      <th>title_year.1</th>\n",
              "    </tr>\n",
              "  </thead>\n",
              "  <tbody>\n",
              "    <tr>\n",
              "      <th>0</th>\n",
              "      <td>Avatar?ÿ</td>\n",
              "      <td>723</td>\n",
              "      <td>178.0</td>\n",
              "      <td>10</td>\n",
              "      <td>855</td>\n",
              "      <td>1000</td>\n",
              "      <td>760505847</td>\n",
              "      <td>886204.0</td>\n",
              "      <td>4834.0</td>\n",
              "      <td>NaN</td>\n",
              "      <td>3054</td>\n",
              "      <td>237000000</td>\n",
              "      <td>2009</td>\n",
              "      <td>936.0</td>\n",
              "      <td>7.9</td>\n",
              "      <td>2009.0</td>\n",
              "    </tr>\n",
              "    <tr>\n",
              "      <th>1</th>\n",
              "      <td>Pirates of the Caribbean: At World's End?ÿ</td>\n",
              "      <td>302</td>\n",
              "      <td>NaN</td>\n",
              "      <td>563</td>\n",
              "      <td>1000</td>\n",
              "      <td>40000</td>\n",
              "      <td>309404152</td>\n",
              "      <td>471220.0</td>\n",
              "      <td>48350.0</td>\n",
              "      <td>NaN</td>\n",
              "      <td>1238</td>\n",
              "      <td>300000000</td>\n",
              "      <td>2007</td>\n",
              "      <td>5000.0</td>\n",
              "      <td>7.1</td>\n",
              "      <td>NaN</td>\n",
              "    </tr>\n",
              "    <tr>\n",
              "      <th>2</th>\n",
              "      <td>Spectre?ÿ</td>\n",
              "      <td>602</td>\n",
              "      <td>148.0</td>\n",
              "      <td>20</td>\n",
              "      <td>161</td>\n",
              "      <td>11000</td>\n",
              "      <td>200074175</td>\n",
              "      <td>275868.0</td>\n",
              "      <td>11700.0</td>\n",
              "      <td>1.0</td>\n",
              "      <td>994</td>\n",
              "      <td>245000000</td>\n",
              "      <td>2015</td>\n",
              "      <td>393.0</td>\n",
              "      <td>6.8</td>\n",
              "      <td>2015.0</td>\n",
              "    </tr>\n",
              "    <tr>\n",
              "      <th>3</th>\n",
              "      <td>The Dark Knight Rises?ÿ</td>\n",
              "      <td>813</td>\n",
              "      <td>NaN</td>\n",
              "      <td>22000</td>\n",
              "      <td>23000</td>\n",
              "      <td>27000</td>\n",
              "      <td>448130642</td>\n",
              "      <td>1144337.0</td>\n",
              "      <td>106759.0</td>\n",
              "      <td>NaN</td>\n",
              "      <td>2701</td>\n",
              "      <td>250000000</td>\n",
              "      <td>2012</td>\n",
              "      <td>23000.0</td>\n",
              "      <td>8.5</td>\n",
              "      <td>NaN</td>\n",
              "    </tr>\n",
              "    <tr>\n",
              "      <th>4</th>\n",
              "      <td>John Carter?ÿ</td>\n",
              "      <td>462</td>\n",
              "      <td>132.0</td>\n",
              "      <td>\"475\"</td>\n",
              "      <td>530</td>\n",
              "      <td>640</td>\n",
              "      <td>73058679</td>\n",
              "      <td>212204.0</td>\n",
              "      <td>1873.0</td>\n",
              "      <td>1.0</td>\n",
              "      <td>738</td>\n",
              "      <td>263700000</td>\n",
              "      <td>2012</td>\n",
              "      <td>632.0</td>\n",
              "      <td>6.6</td>\n",
              "      <td>NaN</td>\n",
              "    </tr>\n",
              "  </tbody>\n",
              "</table>\n",
              "</div>"
            ],
            "text/plain": [
              "                                  movie_title  ...  title_year.1\n",
              "0                                    Avatar?ÿ  ...        2009.0\n",
              "1  Pirates of the Caribbean: At World's End?ÿ  ...           NaN\n",
              "2                                   Spectre?ÿ  ...        2015.0\n",
              "3                     The Dark Knight Rises?ÿ  ...           NaN\n",
              "4                               John Carter?ÿ  ...           NaN\n",
              "\n",
              "[5 rows x 16 columns]"
            ]
          },
          "metadata": {
            "tags": []
          },
          "execution_count": 42
        }
      ]
    },
    {
      "cell_type": "code",
      "metadata": {
        "id": "_vmerQ2nWfsM",
        "colab_type": "code",
        "colab": {
          "base_uri": "https://localhost:8080/",
          "height": 146
        },
        "outputId": "59f961e7-e206-4578-f32f-683fb1562be8"
      },
      "source": [
        "df.columns"
      ],
      "execution_count": 51,
      "outputs": [
        {
          "output_type": "execute_result",
          "data": {
            "text/plain": [
              "Index(['movie_title', 'num_critic_for_reviews', 'duration',\n",
              "       'DIRECTOR_facebook_likes', 'actor_3_facebook_likes',\n",
              "       'ACTOR_1_facebook_likes', 'gross', 'num_voted_users',\n",
              "       'Cast_Total_facebook_likes', 'facenumber_in_poster',\n",
              "       'num_user_for_reviews', 'budget', 'title_year',\n",
              "       'ACTOR_2_facebook_likes', 'imdb_score', 'title_year.1'],\n",
              "      dtype='object')"
            ]
          },
          "metadata": {
            "tags": []
          },
          "execution_count": 51
        }
      ]
    },
    {
      "cell_type": "code",
      "metadata": {
        "id": "Od37jwZlXE09",
        "colab_type": "code",
        "colab": {
          "base_uri": "https://localhost:8080/",
          "height": 146
        },
        "outputId": "1d3379af-d062-4027-809d-711eea3de703"
      },
      "source": [
        "df.columns.str.upper()"
      ],
      "execution_count": 52,
      "outputs": [
        {
          "output_type": "execute_result",
          "data": {
            "text/plain": [
              "Index(['MOVIE_TITLE', 'NUM_CRITIC_FOR_REVIEWS', 'DURATION',\n",
              "       'DIRECTOR_FACEBOOK_LIKES', 'ACTOR_3_FACEBOOK_LIKES',\n",
              "       'ACTOR_1_FACEBOOK_LIKES', 'GROSS', 'NUM_VOTED_USERS',\n",
              "       'CAST_TOTAL_FACEBOOK_LIKES', 'FACENUMBER_IN_POSTER',\n",
              "       'NUM_USER_FOR_REVIEWS', 'BUDGET', 'TITLE_YEAR',\n",
              "       'ACTOR_2_FACEBOOK_LIKES', 'IMDB_SCORE', 'TITLE_YEAR.1'],\n",
              "      dtype='object')"
            ]
          },
          "metadata": {
            "tags": []
          },
          "execution_count": 52
        }
      ]
    },
    {
      "cell_type": "code",
      "metadata": {
        "id": "88_xqmoNXTQa",
        "colab_type": "code",
        "colab": {}
      },
      "source": [
        "df.columns = df.columns.str.upper()"
      ],
      "execution_count": 0,
      "outputs": []
    },
    {
      "cell_type": "code",
      "metadata": {
        "id": "CtpQx4OoXeIK",
        "colab_type": "code",
        "colab": {
          "base_uri": "https://localhost:8080/",
          "height": 146
        },
        "outputId": "0e3f88d8-1768-4005-8874-877f96d6fe7f"
      },
      "source": [
        "df.columns"
      ],
      "execution_count": 71,
      "outputs": [
        {
          "output_type": "execute_result",
          "data": {
            "text/plain": [
              "Index(['MOVIE_TITLE', 'NUM_CRITIC_FOR_REVIEWS', 'DURATION',\n",
              "       'DIRECTOR_FACEBOOK_LIKES', 'ACTOR_3_FACEBOOK_LIKES',\n",
              "       'ACTOR_1_FACEBOOK_LIKES', 'GROSS', 'NUM_VOTED_USERS',\n",
              "       'CAST_TOTAL_FACEBOOK_LIKES', 'FACENUMBER_IN_POSTER',\n",
              "       'NUM_USER_FOR_REVIEWS', 'BUDGET', 'TITLE_YEAR',\n",
              "       'ACTOR_2_FACEBOOK_LIKES', 'IMDB_SCORE', 'TITLE_YEAR.1'],\n",
              "      dtype='object')"
            ]
          },
          "metadata": {
            "tags": []
          },
          "execution_count": 71
        }
      ]
    },
    {
      "cell_type": "code",
      "metadata": {
        "id": "H9fJ0Q4gXnfN",
        "colab_type": "code",
        "colab": {}
      },
      "source": [
        "df1 = df.rename(columns={'DURATION':'TIME'}).head()"
      ],
      "execution_count": 0,
      "outputs": []
    },
    {
      "cell_type": "code",
      "metadata": {
        "id": "KwJ2cX7ok8p_",
        "colab_type": "code",
        "colab": {
          "base_uri": "https://localhost:8080/",
          "height": 330
        },
        "outputId": "aed5d8fd-11c1-4686-b6e6-5a62b7a09e26"
      },
      "source": [
        "df1.head()"
      ],
      "execution_count": 73,
      "outputs": [
        {
          "output_type": "execute_result",
          "data": {
            "text/html": [
              "<div>\n",
              "<style scoped>\n",
              "    .dataframe tbody tr th:only-of-type {\n",
              "        vertical-align: middle;\n",
              "    }\n",
              "\n",
              "    .dataframe tbody tr th {\n",
              "        vertical-align: top;\n",
              "    }\n",
              "\n",
              "    .dataframe thead th {\n",
              "        text-align: right;\n",
              "    }\n",
              "</style>\n",
              "<table border=\"1\" class=\"dataframe\">\n",
              "  <thead>\n",
              "    <tr style=\"text-align: right;\">\n",
              "      <th></th>\n",
              "      <th>MOVIE_TITLE</th>\n",
              "      <th>NUM_CRITIC_FOR_REVIEWS</th>\n",
              "      <th>TIME</th>\n",
              "      <th>DIRECTOR_FACEBOOK_LIKES</th>\n",
              "      <th>ACTOR_3_FACEBOOK_LIKES</th>\n",
              "      <th>ACTOR_1_FACEBOOK_LIKES</th>\n",
              "      <th>GROSS</th>\n",
              "      <th>NUM_VOTED_USERS</th>\n",
              "      <th>CAST_TOTAL_FACEBOOK_LIKES</th>\n",
              "      <th>FACENUMBER_IN_POSTER</th>\n",
              "      <th>NUM_USER_FOR_REVIEWS</th>\n",
              "      <th>BUDGET</th>\n",
              "      <th>TITLE_YEAR</th>\n",
              "      <th>ACTOR_2_FACEBOOK_LIKES</th>\n",
              "      <th>IMDB_SCORE</th>\n",
              "      <th>TITLE_YEAR.1</th>\n",
              "    </tr>\n",
              "  </thead>\n",
              "  <tbody>\n",
              "    <tr>\n",
              "      <th>0</th>\n",
              "      <td>Avatar?ÿ</td>\n",
              "      <td>723</td>\n",
              "      <td>178.0</td>\n",
              "      <td>10</td>\n",
              "      <td>855</td>\n",
              "      <td>1000</td>\n",
              "      <td>760505847</td>\n",
              "      <td>886204.0</td>\n",
              "      <td>4834.0</td>\n",
              "      <td>NaN</td>\n",
              "      <td>3054</td>\n",
              "      <td>237000000</td>\n",
              "      <td>2009</td>\n",
              "      <td>936.0</td>\n",
              "      <td>7.9</td>\n",
              "      <td>2009.0</td>\n",
              "    </tr>\n",
              "    <tr>\n",
              "      <th>1</th>\n",
              "      <td>Pirates of the Caribbean: At World's End?ÿ</td>\n",
              "      <td>302</td>\n",
              "      <td>NaN</td>\n",
              "      <td>563</td>\n",
              "      <td>1000</td>\n",
              "      <td>40000</td>\n",
              "      <td>309404152</td>\n",
              "      <td>471220.0</td>\n",
              "      <td>48350.0</td>\n",
              "      <td>NaN</td>\n",
              "      <td>1238</td>\n",
              "      <td>300000000</td>\n",
              "      <td>2007</td>\n",
              "      <td>5000.0</td>\n",
              "      <td>7.1</td>\n",
              "      <td>NaN</td>\n",
              "    </tr>\n",
              "    <tr>\n",
              "      <th>2</th>\n",
              "      <td>Spectre?ÿ</td>\n",
              "      <td>602</td>\n",
              "      <td>148.0</td>\n",
              "      <td>20</td>\n",
              "      <td>161</td>\n",
              "      <td>11000</td>\n",
              "      <td>200074175</td>\n",
              "      <td>275868.0</td>\n",
              "      <td>11700.0</td>\n",
              "      <td>1.0</td>\n",
              "      <td>994</td>\n",
              "      <td>245000000</td>\n",
              "      <td>2015</td>\n",
              "      <td>393.0</td>\n",
              "      <td>6.8</td>\n",
              "      <td>2015.0</td>\n",
              "    </tr>\n",
              "    <tr>\n",
              "      <th>3</th>\n",
              "      <td>The Dark Knight Rises?ÿ</td>\n",
              "      <td>813</td>\n",
              "      <td>NaN</td>\n",
              "      <td>22000</td>\n",
              "      <td>23000</td>\n",
              "      <td>27000</td>\n",
              "      <td>448130642</td>\n",
              "      <td>1144337.0</td>\n",
              "      <td>106759.0</td>\n",
              "      <td>NaN</td>\n",
              "      <td>2701</td>\n",
              "      <td>250000000</td>\n",
              "      <td>2012</td>\n",
              "      <td>23000.0</td>\n",
              "      <td>8.5</td>\n",
              "      <td>NaN</td>\n",
              "    </tr>\n",
              "    <tr>\n",
              "      <th>4</th>\n",
              "      <td>John Carter?ÿ</td>\n",
              "      <td>462</td>\n",
              "      <td>132.0</td>\n",
              "      <td>\"475\"</td>\n",
              "      <td>530</td>\n",
              "      <td>640</td>\n",
              "      <td>73058679</td>\n",
              "      <td>212204.0</td>\n",
              "      <td>1873.0</td>\n",
              "      <td>1.0</td>\n",
              "      <td>738</td>\n",
              "      <td>263700000</td>\n",
              "      <td>2012</td>\n",
              "      <td>632.0</td>\n",
              "      <td>6.6</td>\n",
              "      <td>NaN</td>\n",
              "    </tr>\n",
              "  </tbody>\n",
              "</table>\n",
              "</div>"
            ],
            "text/plain": [
              "                                  MOVIE_TITLE  ...  TITLE_YEAR.1\n",
              "0                                    Avatar?ÿ  ...        2009.0\n",
              "1  Pirates of the Caribbean: At World's End?ÿ  ...           NaN\n",
              "2                                   Spectre?ÿ  ...        2015.0\n",
              "3                     The Dark Knight Rises?ÿ  ...           NaN\n",
              "4                               John Carter?ÿ  ...           NaN\n",
              "\n",
              "[5 rows x 16 columns]"
            ]
          },
          "metadata": {
            "tags": []
          },
          "execution_count": 73
        }
      ]
    },
    {
      "cell_type": "code",
      "metadata": {
        "id": "C0V_FerNZZj7",
        "colab_type": "code",
        "colab": {
          "base_uri": "https://localhost:8080/",
          "height": 226
        },
        "outputId": "26ad1360-a212-4d72-b6da-179719130b93"
      },
      "source": [
        "df1.isnull()"
      ],
      "execution_count": 74,
      "outputs": [
        {
          "output_type": "execute_result",
          "data": {
            "text/html": [
              "<div>\n",
              "<style scoped>\n",
              "    .dataframe tbody tr th:only-of-type {\n",
              "        vertical-align: middle;\n",
              "    }\n",
              "\n",
              "    .dataframe tbody tr th {\n",
              "        vertical-align: top;\n",
              "    }\n",
              "\n",
              "    .dataframe thead th {\n",
              "        text-align: right;\n",
              "    }\n",
              "</style>\n",
              "<table border=\"1\" class=\"dataframe\">\n",
              "  <thead>\n",
              "    <tr style=\"text-align: right;\">\n",
              "      <th></th>\n",
              "      <th>MOVIE_TITLE</th>\n",
              "      <th>NUM_CRITIC_FOR_REVIEWS</th>\n",
              "      <th>TIME</th>\n",
              "      <th>DIRECTOR_FACEBOOK_LIKES</th>\n",
              "      <th>ACTOR_3_FACEBOOK_LIKES</th>\n",
              "      <th>ACTOR_1_FACEBOOK_LIKES</th>\n",
              "      <th>GROSS</th>\n",
              "      <th>NUM_VOTED_USERS</th>\n",
              "      <th>CAST_TOTAL_FACEBOOK_LIKES</th>\n",
              "      <th>FACENUMBER_IN_POSTER</th>\n",
              "      <th>NUM_USER_FOR_REVIEWS</th>\n",
              "      <th>BUDGET</th>\n",
              "      <th>TITLE_YEAR</th>\n",
              "      <th>ACTOR_2_FACEBOOK_LIKES</th>\n",
              "      <th>IMDB_SCORE</th>\n",
              "      <th>TITLE_YEAR.1</th>\n",
              "    </tr>\n",
              "  </thead>\n",
              "  <tbody>\n",
              "    <tr>\n",
              "      <th>0</th>\n",
              "      <td>False</td>\n",
              "      <td>False</td>\n",
              "      <td>False</td>\n",
              "      <td>False</td>\n",
              "      <td>False</td>\n",
              "      <td>False</td>\n",
              "      <td>False</td>\n",
              "      <td>False</td>\n",
              "      <td>False</td>\n",
              "      <td>True</td>\n",
              "      <td>False</td>\n",
              "      <td>False</td>\n",
              "      <td>False</td>\n",
              "      <td>False</td>\n",
              "      <td>False</td>\n",
              "      <td>False</td>\n",
              "    </tr>\n",
              "    <tr>\n",
              "      <th>1</th>\n",
              "      <td>False</td>\n",
              "      <td>False</td>\n",
              "      <td>True</td>\n",
              "      <td>False</td>\n",
              "      <td>False</td>\n",
              "      <td>False</td>\n",
              "      <td>False</td>\n",
              "      <td>False</td>\n",
              "      <td>False</td>\n",
              "      <td>True</td>\n",
              "      <td>False</td>\n",
              "      <td>False</td>\n",
              "      <td>False</td>\n",
              "      <td>False</td>\n",
              "      <td>False</td>\n",
              "      <td>True</td>\n",
              "    </tr>\n",
              "    <tr>\n",
              "      <th>2</th>\n",
              "      <td>False</td>\n",
              "      <td>False</td>\n",
              "      <td>False</td>\n",
              "      <td>False</td>\n",
              "      <td>False</td>\n",
              "      <td>False</td>\n",
              "      <td>False</td>\n",
              "      <td>False</td>\n",
              "      <td>False</td>\n",
              "      <td>False</td>\n",
              "      <td>False</td>\n",
              "      <td>False</td>\n",
              "      <td>False</td>\n",
              "      <td>False</td>\n",
              "      <td>False</td>\n",
              "      <td>False</td>\n",
              "    </tr>\n",
              "    <tr>\n",
              "      <th>3</th>\n",
              "      <td>False</td>\n",
              "      <td>False</td>\n",
              "      <td>True</td>\n",
              "      <td>False</td>\n",
              "      <td>False</td>\n",
              "      <td>False</td>\n",
              "      <td>False</td>\n",
              "      <td>False</td>\n",
              "      <td>False</td>\n",
              "      <td>True</td>\n",
              "      <td>False</td>\n",
              "      <td>False</td>\n",
              "      <td>False</td>\n",
              "      <td>False</td>\n",
              "      <td>False</td>\n",
              "      <td>True</td>\n",
              "    </tr>\n",
              "    <tr>\n",
              "      <th>4</th>\n",
              "      <td>False</td>\n",
              "      <td>False</td>\n",
              "      <td>False</td>\n",
              "      <td>False</td>\n",
              "      <td>False</td>\n",
              "      <td>False</td>\n",
              "      <td>False</td>\n",
              "      <td>False</td>\n",
              "      <td>False</td>\n",
              "      <td>False</td>\n",
              "      <td>False</td>\n",
              "      <td>False</td>\n",
              "      <td>False</td>\n",
              "      <td>False</td>\n",
              "      <td>False</td>\n",
              "      <td>True</td>\n",
              "    </tr>\n",
              "  </tbody>\n",
              "</table>\n",
              "</div>"
            ],
            "text/plain": [
              "   MOVIE_TITLE  NUM_CRITIC_FOR_REVIEWS  ...  IMDB_SCORE  TITLE_YEAR.1\n",
              "0        False                   False  ...       False         False\n",
              "1        False                   False  ...       False          True\n",
              "2        False                   False  ...       False         False\n",
              "3        False                   False  ...       False          True\n",
              "4        False                   False  ...       False          True\n",
              "\n",
              "[5 rows x 16 columns]"
            ]
          },
          "metadata": {
            "tags": []
          },
          "execution_count": 74
        }
      ]
    },
    {
      "cell_type": "code",
      "metadata": {
        "id": "r5-Vhg9LkFnd",
        "colab_type": "code",
        "colab": {
          "base_uri": "https://localhost:8080/",
          "height": 329
        },
        "outputId": "fab8a0c9-d1b7-482a-dd19-ac1af33266d3"
      },
      "source": [
        "df1.isnull().sum()"
      ],
      "execution_count": 75,
      "outputs": [
        {
          "output_type": "execute_result",
          "data": {
            "text/plain": [
              "MOVIE_TITLE                  0\n",
              "NUM_CRITIC_FOR_REVIEWS       0\n",
              "TIME                         2\n",
              "DIRECTOR_FACEBOOK_LIKES      0\n",
              "ACTOR_3_FACEBOOK_LIKES       0\n",
              "ACTOR_1_FACEBOOK_LIKES       0\n",
              "GROSS                        0\n",
              "NUM_VOTED_USERS              0\n",
              "CAST_TOTAL_FACEBOOK_LIKES    0\n",
              "FACENUMBER_IN_POSTER         3\n",
              "NUM_USER_FOR_REVIEWS         0\n",
              "BUDGET                       0\n",
              "TITLE_YEAR                   0\n",
              "ACTOR_2_FACEBOOK_LIKES       0\n",
              "IMDB_SCORE                   0\n",
              "TITLE_YEAR.1                 3\n",
              "dtype: int64"
            ]
          },
          "metadata": {
            "tags": []
          },
          "execution_count": 75
        }
      ]
    },
    {
      "cell_type": "code",
      "metadata": {
        "id": "yC_3UgKQkPwB",
        "colab_type": "code",
        "colab": {
          "base_uri": "https://localhost:8080/",
          "height": 320
        },
        "outputId": "a884a77d-5004-46d5-98ea-a5d76c263dac"
      },
      "source": [
        "df1.describe()"
      ],
      "execution_count": 76,
      "outputs": [
        {
          "output_type": "execute_result",
          "data": {
            "text/html": [
              "<div>\n",
              "<style scoped>\n",
              "    .dataframe tbody tr th:only-of-type {\n",
              "        vertical-align: middle;\n",
              "    }\n",
              "\n",
              "    .dataframe tbody tr th {\n",
              "        vertical-align: top;\n",
              "    }\n",
              "\n",
              "    .dataframe thead th {\n",
              "        text-align: right;\n",
              "    }\n",
              "</style>\n",
              "<table border=\"1\" class=\"dataframe\">\n",
              "  <thead>\n",
              "    <tr style=\"text-align: right;\">\n",
              "      <th></th>\n",
              "      <th>NUM_CRITIC_FOR_REVIEWS</th>\n",
              "      <th>TIME</th>\n",
              "      <th>ACTOR_3_FACEBOOK_LIKES</th>\n",
              "      <th>ACTOR_1_FACEBOOK_LIKES</th>\n",
              "      <th>GROSS</th>\n",
              "      <th>NUM_VOTED_USERS</th>\n",
              "      <th>CAST_TOTAL_FACEBOOK_LIKES</th>\n",
              "      <th>FACENUMBER_IN_POSTER</th>\n",
              "      <th>NUM_USER_FOR_REVIEWS</th>\n",
              "      <th>BUDGET</th>\n",
              "      <th>TITLE_YEAR</th>\n",
              "      <th>ACTOR_2_FACEBOOK_LIKES</th>\n",
              "      <th>IMDB_SCORE</th>\n",
              "      <th>TITLE_YEAR.1</th>\n",
              "    </tr>\n",
              "  </thead>\n",
              "  <tbody>\n",
              "    <tr>\n",
              "      <th>count</th>\n",
              "      <td>5.000000</td>\n",
              "      <td>3.000000</td>\n",
              "      <td>5.000000</td>\n",
              "      <td>5.000000</td>\n",
              "      <td>5.000000e+00</td>\n",
              "      <td>5.000000e+00</td>\n",
              "      <td>5.000000</td>\n",
              "      <td>2.0</td>\n",
              "      <td>5.000000</td>\n",
              "      <td>5.000000e+00</td>\n",
              "      <td>5.000000</td>\n",
              "      <td>5.000000</td>\n",
              "      <td>5.000000</td>\n",
              "      <td>2.000000</td>\n",
              "    </tr>\n",
              "    <tr>\n",
              "      <th>mean</th>\n",
              "      <td>580.400000</td>\n",
              "      <td>152.666667</td>\n",
              "      <td>5109.200000</td>\n",
              "      <td>15928.000000</td>\n",
              "      <td>3.582347e+08</td>\n",
              "      <td>5.979666e+05</td>\n",
              "      <td>34703.200000</td>\n",
              "      <td>1.0</td>\n",
              "      <td>1745.000000</td>\n",
              "      <td>2.591400e+08</td>\n",
              "      <td>2011.000000</td>\n",
              "      <td>5992.200000</td>\n",
              "      <td>7.380000</td>\n",
              "      <td>2012.000000</td>\n",
              "    </tr>\n",
              "    <tr>\n",
              "      <th>std</th>\n",
              "      <td>203.978675</td>\n",
              "      <td>23.352373</td>\n",
              "      <td>10006.475688</td>\n",
              "      <td>17196.683401</td>\n",
              "      <td>2.639261e+08</td>\n",
              "      <td>4.031831e+05</td>\n",
              "      <td>44377.392372</td>\n",
              "      <td>0.0</td>\n",
              "      <td>1056.233402</td>\n",
              "      <td>2.481931e+07</td>\n",
              "      <td>3.082207</td>\n",
              "      <td>9694.040241</td>\n",
              "      <td>0.798123</td>\n",
              "      <td>4.242641</td>\n",
              "    </tr>\n",
              "    <tr>\n",
              "      <th>min</th>\n",
              "      <td>302.000000</td>\n",
              "      <td>132.000000</td>\n",
              "      <td>161.000000</td>\n",
              "      <td>640.000000</td>\n",
              "      <td>7.305868e+07</td>\n",
              "      <td>2.122040e+05</td>\n",
              "      <td>1873.000000</td>\n",
              "      <td>1.0</td>\n",
              "      <td>738.000000</td>\n",
              "      <td>2.370000e+08</td>\n",
              "      <td>2007.000000</td>\n",
              "      <td>393.000000</td>\n",
              "      <td>6.600000</td>\n",
              "      <td>2009.000000</td>\n",
              "    </tr>\n",
              "    <tr>\n",
              "      <th>25%</th>\n",
              "      <td>462.000000</td>\n",
              "      <td>140.000000</td>\n",
              "      <td>530.000000</td>\n",
              "      <td>1000.000000</td>\n",
              "      <td>2.000742e+08</td>\n",
              "      <td>2.758680e+05</td>\n",
              "      <td>4834.000000</td>\n",
              "      <td>1.0</td>\n",
              "      <td>994.000000</td>\n",
              "      <td>2.450000e+08</td>\n",
              "      <td>2009.000000</td>\n",
              "      <td>632.000000</td>\n",
              "      <td>6.800000</td>\n",
              "      <td>2010.500000</td>\n",
              "    </tr>\n",
              "    <tr>\n",
              "      <th>50%</th>\n",
              "      <td>602.000000</td>\n",
              "      <td>148.000000</td>\n",
              "      <td>855.000000</td>\n",
              "      <td>11000.000000</td>\n",
              "      <td>3.094042e+08</td>\n",
              "      <td>4.712200e+05</td>\n",
              "      <td>11700.000000</td>\n",
              "      <td>1.0</td>\n",
              "      <td>1238.000000</td>\n",
              "      <td>2.500000e+08</td>\n",
              "      <td>2012.000000</td>\n",
              "      <td>936.000000</td>\n",
              "      <td>7.100000</td>\n",
              "      <td>2012.000000</td>\n",
              "    </tr>\n",
              "    <tr>\n",
              "      <th>75%</th>\n",
              "      <td>723.000000</td>\n",
              "      <td>163.000000</td>\n",
              "      <td>1000.000000</td>\n",
              "      <td>27000.000000</td>\n",
              "      <td>4.481306e+08</td>\n",
              "      <td>8.862040e+05</td>\n",
              "      <td>48350.000000</td>\n",
              "      <td>1.0</td>\n",
              "      <td>2701.000000</td>\n",
              "      <td>2.637000e+08</td>\n",
              "      <td>2012.000000</td>\n",
              "      <td>5000.000000</td>\n",
              "      <td>7.900000</td>\n",
              "      <td>2013.500000</td>\n",
              "    </tr>\n",
              "    <tr>\n",
              "      <th>max</th>\n",
              "      <td>813.000000</td>\n",
              "      <td>178.000000</td>\n",
              "      <td>23000.000000</td>\n",
              "      <td>40000.000000</td>\n",
              "      <td>7.605058e+08</td>\n",
              "      <td>1.144337e+06</td>\n",
              "      <td>106759.000000</td>\n",
              "      <td>1.0</td>\n",
              "      <td>3054.000000</td>\n",
              "      <td>3.000000e+08</td>\n",
              "      <td>2015.000000</td>\n",
              "      <td>23000.000000</td>\n",
              "      <td>8.500000</td>\n",
              "      <td>2015.000000</td>\n",
              "    </tr>\n",
              "  </tbody>\n",
              "</table>\n",
              "</div>"
            ],
            "text/plain": [
              "       NUM_CRITIC_FOR_REVIEWS        TIME  ...  IMDB_SCORE  TITLE_YEAR.1\n",
              "count                5.000000    3.000000  ...    5.000000      2.000000\n",
              "mean               580.400000  152.666667  ...    7.380000   2012.000000\n",
              "std                203.978675   23.352373  ...    0.798123      4.242641\n",
              "min                302.000000  132.000000  ...    6.600000   2009.000000\n",
              "25%                462.000000  140.000000  ...    6.800000   2010.500000\n",
              "50%                602.000000  148.000000  ...    7.100000   2012.000000\n",
              "75%                723.000000  163.000000  ...    7.900000   2013.500000\n",
              "max                813.000000  178.000000  ...    8.500000   2015.000000\n",
              "\n",
              "[8 rows x 14 columns]"
            ]
          },
          "metadata": {
            "tags": []
          },
          "execution_count": 76
        }
      ]
    },
    {
      "cell_type": "code",
      "metadata": {
        "id": "WFcPVCN3l0op",
        "colab_type": "code",
        "colab": {}
      },
      "source": [
        "df2 = df1.fillna(0)"
      ],
      "execution_count": 0,
      "outputs": []
    },
    {
      "cell_type": "code",
      "metadata": {
        "id": "rC6mY_lRmkEf",
        "colab_type": "code",
        "colab": {
          "base_uri": "https://localhost:8080/",
          "height": 330
        },
        "outputId": "e0816ef2-1f03-465a-8938-fa2f23bcd24f"
      },
      "source": [
        "df2.head()"
      ],
      "execution_count": 86,
      "outputs": [
        {
          "output_type": "execute_result",
          "data": {
            "text/html": [
              "<div>\n",
              "<style scoped>\n",
              "    .dataframe tbody tr th:only-of-type {\n",
              "        vertical-align: middle;\n",
              "    }\n",
              "\n",
              "    .dataframe tbody tr th {\n",
              "        vertical-align: top;\n",
              "    }\n",
              "\n",
              "    .dataframe thead th {\n",
              "        text-align: right;\n",
              "    }\n",
              "</style>\n",
              "<table border=\"1\" class=\"dataframe\">\n",
              "  <thead>\n",
              "    <tr style=\"text-align: right;\">\n",
              "      <th></th>\n",
              "      <th>MOVIE_TITLE</th>\n",
              "      <th>NUM_CRITIC_FOR_REVIEWS</th>\n",
              "      <th>TIME</th>\n",
              "      <th>DIRECTOR_FACEBOOK_LIKES</th>\n",
              "      <th>ACTOR_3_FACEBOOK_LIKES</th>\n",
              "      <th>ACTOR_1_FACEBOOK_LIKES</th>\n",
              "      <th>GROSS</th>\n",
              "      <th>NUM_VOTED_USERS</th>\n",
              "      <th>CAST_TOTAL_FACEBOOK_LIKES</th>\n",
              "      <th>FACENUMBER_IN_POSTER</th>\n",
              "      <th>NUM_USER_FOR_REVIEWS</th>\n",
              "      <th>BUDGET</th>\n",
              "      <th>TITLE_YEAR</th>\n",
              "      <th>ACTOR_2_FACEBOOK_LIKES</th>\n",
              "      <th>IMDB_SCORE</th>\n",
              "      <th>TITLE_YEAR.1</th>\n",
              "    </tr>\n",
              "  </thead>\n",
              "  <tbody>\n",
              "    <tr>\n",
              "      <th>0</th>\n",
              "      <td>Avatar?ÿ</td>\n",
              "      <td>723</td>\n",
              "      <td>178.0</td>\n",
              "      <td>10</td>\n",
              "      <td>855</td>\n",
              "      <td>1000</td>\n",
              "      <td>760505847</td>\n",
              "      <td>886204.0</td>\n",
              "      <td>4834.0</td>\n",
              "      <td>0.0</td>\n",
              "      <td>3054</td>\n",
              "      <td>237000000</td>\n",
              "      <td>2009</td>\n",
              "      <td>936.0</td>\n",
              "      <td>7.9</td>\n",
              "      <td>2009.0</td>\n",
              "    </tr>\n",
              "    <tr>\n",
              "      <th>1</th>\n",
              "      <td>Pirates of the Caribbean: At World's End?ÿ</td>\n",
              "      <td>302</td>\n",
              "      <td>0.0</td>\n",
              "      <td>563</td>\n",
              "      <td>1000</td>\n",
              "      <td>40000</td>\n",
              "      <td>309404152</td>\n",
              "      <td>471220.0</td>\n",
              "      <td>48350.0</td>\n",
              "      <td>0.0</td>\n",
              "      <td>1238</td>\n",
              "      <td>300000000</td>\n",
              "      <td>2007</td>\n",
              "      <td>5000.0</td>\n",
              "      <td>7.1</td>\n",
              "      <td>0.0</td>\n",
              "    </tr>\n",
              "    <tr>\n",
              "      <th>2</th>\n",
              "      <td>Spectre?ÿ</td>\n",
              "      <td>602</td>\n",
              "      <td>148.0</td>\n",
              "      <td>20</td>\n",
              "      <td>161</td>\n",
              "      <td>11000</td>\n",
              "      <td>200074175</td>\n",
              "      <td>275868.0</td>\n",
              "      <td>11700.0</td>\n",
              "      <td>1.0</td>\n",
              "      <td>994</td>\n",
              "      <td>245000000</td>\n",
              "      <td>2015</td>\n",
              "      <td>393.0</td>\n",
              "      <td>6.8</td>\n",
              "      <td>2015.0</td>\n",
              "    </tr>\n",
              "    <tr>\n",
              "      <th>3</th>\n",
              "      <td>The Dark Knight Rises?ÿ</td>\n",
              "      <td>813</td>\n",
              "      <td>0.0</td>\n",
              "      <td>22000</td>\n",
              "      <td>23000</td>\n",
              "      <td>27000</td>\n",
              "      <td>448130642</td>\n",
              "      <td>1144337.0</td>\n",
              "      <td>106759.0</td>\n",
              "      <td>0.0</td>\n",
              "      <td>2701</td>\n",
              "      <td>250000000</td>\n",
              "      <td>2012</td>\n",
              "      <td>23000.0</td>\n",
              "      <td>8.5</td>\n",
              "      <td>0.0</td>\n",
              "    </tr>\n",
              "    <tr>\n",
              "      <th>4</th>\n",
              "      <td>John Carter?ÿ</td>\n",
              "      <td>462</td>\n",
              "      <td>132.0</td>\n",
              "      <td>\"475\"</td>\n",
              "      <td>530</td>\n",
              "      <td>640</td>\n",
              "      <td>73058679</td>\n",
              "      <td>212204.0</td>\n",
              "      <td>1873.0</td>\n",
              "      <td>1.0</td>\n",
              "      <td>738</td>\n",
              "      <td>263700000</td>\n",
              "      <td>2012</td>\n",
              "      <td>632.0</td>\n",
              "      <td>6.6</td>\n",
              "      <td>0.0</td>\n",
              "    </tr>\n",
              "  </tbody>\n",
              "</table>\n",
              "</div>"
            ],
            "text/plain": [
              "                                  MOVIE_TITLE  ...  TITLE_YEAR.1\n",
              "0                                    Avatar?ÿ  ...        2009.0\n",
              "1  Pirates of the Caribbean: At World's End?ÿ  ...           0.0\n",
              "2                                   Spectre?ÿ  ...        2015.0\n",
              "3                     The Dark Knight Rises?ÿ  ...           0.0\n",
              "4                               John Carter?ÿ  ...           0.0\n",
              "\n",
              "[5 rows x 16 columns]"
            ]
          },
          "metadata": {
            "tags": []
          },
          "execution_count": 86
        }
      ]
    },
    {
      "cell_type": "code",
      "metadata": {
        "id": "AlI4kXrDmpdu",
        "colab_type": "code",
        "colab": {
          "base_uri": "https://localhost:8080/",
          "height": 35
        },
        "outputId": "64df567d-b79a-4a0f-fb00-604315bdde6a"
      },
      "source": [
        "df2['TIME'].mean()"
      ],
      "execution_count": 87,
      "outputs": [
        {
          "output_type": "execute_result",
          "data": {
            "text/plain": [
              "91.6"
            ]
          },
          "metadata": {
            "tags": []
          },
          "execution_count": 87
        }
      ]
    },
    {
      "cell_type": "code",
      "metadata": {
        "id": "uTRCQ4vJnpFD",
        "colab_type": "code",
        "colab": {}
      },
      "source": [
        "df3 = df2.TIME.fillna(df2['TIME'].mean())"
      ],
      "execution_count": 0,
      "outputs": []
    },
    {
      "cell_type": "code",
      "metadata": {
        "id": "iR6ZqlBToB0P",
        "colab_type": "code",
        "colab": {
          "base_uri": "https://localhost:8080/",
          "height": 127
        },
        "outputId": "6ee8af09-fe0f-4061-9f6c-24c5065b16e5"
      },
      "source": [
        "df3"
      ],
      "execution_count": 90,
      "outputs": [
        {
          "output_type": "execute_result",
          "data": {
            "text/plain": [
              "0    178.0\n",
              "1      0.0\n",
              "2    148.0\n",
              "3      0.0\n",
              "4    132.0\n",
              "Name: TIME, dtype: float64"
            ]
          },
          "metadata": {
            "tags": []
          },
          "execution_count": 90
        }
      ]
    },
    {
      "cell_type": "code",
      "metadata": {
        "id": "3QiZh58hoR6Y",
        "colab_type": "code",
        "colab": {
          "base_uri": "https://localhost:8080/",
          "height": 35
        },
        "outputId": "2c40b5bc-2301-4d29-81c0-4bcff6142069"
      },
      "source": [
        "df2.isnull().sum().sum()"
      ],
      "execution_count": 93,
      "outputs": [
        {
          "output_type": "execute_result",
          "data": {
            "text/plain": [
              "0"
            ]
          },
          "metadata": {
            "tags": []
          },
          "execution_count": 93
        }
      ]
    },
    {
      "cell_type": "code",
      "metadata": {
        "id": "eCOMx8QUon-O",
        "colab_type": "code",
        "colab": {
          "base_uri": "https://localhost:8080/",
          "height": 35
        },
        "outputId": "adbb58e0-0b07-4da4-ab25-2159a5e31619"
      },
      "source": [
        "df2.shape"
      ],
      "execution_count": 95,
      "outputs": [
        {
          "output_type": "execute_result",
          "data": {
            "text/plain": [
              "(5, 16)"
            ]
          },
          "metadata": {
            "tags": []
          },
          "execution_count": 95
        }
      ]
    },
    {
      "cell_type": "code",
      "metadata": {
        "id": "JCfgK8tIovP1",
        "colab_type": "code",
        "colab": {
          "base_uri": "https://localhost:8080/",
          "height": 35
        },
        "outputId": "fca2a561-9dad-4486-9ce2-d2e0f7f7f860"
      },
      "source": [
        "df.shape"
      ],
      "execution_count": 101,
      "outputs": [
        {
          "output_type": "execute_result",
          "data": {
            "text/plain": [
              "(14, 16)"
            ]
          },
          "metadata": {
            "tags": []
          },
          "execution_count": 101
        }
      ]
    },
    {
      "cell_type": "code",
      "metadata": {
        "id": "XWzhECP2pLfR",
        "colab_type": "code",
        "colab": {}
      },
      "source": [
        "df_drop = df.dropna()"
      ],
      "execution_count": 0,
      "outputs": []
    },
    {
      "cell_type": "code",
      "metadata": {
        "id": "Qz7rTQsbpSpp",
        "colab_type": "code",
        "colab": {
          "base_uri": "https://localhost:8080/",
          "height": 299
        },
        "outputId": "f8dd3bb7-a382-499a-e8a6-832484e2dbd5"
      },
      "source": [
        "df_drop.head()"
      ],
      "execution_count": 104,
      "outputs": [
        {
          "output_type": "execute_result",
          "data": {
            "text/html": [
              "<div>\n",
              "<style scoped>\n",
              "    .dataframe tbody tr th:only-of-type {\n",
              "        vertical-align: middle;\n",
              "    }\n",
              "\n",
              "    .dataframe tbody tr th {\n",
              "        vertical-align: top;\n",
              "    }\n",
              "\n",
              "    .dataframe thead th {\n",
              "        text-align: right;\n",
              "    }\n",
              "</style>\n",
              "<table border=\"1\" class=\"dataframe\">\n",
              "  <thead>\n",
              "    <tr style=\"text-align: right;\">\n",
              "      <th></th>\n",
              "      <th>MOVIE_TITLE</th>\n",
              "      <th>NUM_CRITIC_FOR_REVIEWS</th>\n",
              "      <th>DURATION</th>\n",
              "      <th>DIRECTOR_FACEBOOK_LIKES</th>\n",
              "      <th>ACTOR_3_FACEBOOK_LIKES</th>\n",
              "      <th>ACTOR_1_FACEBOOK_LIKES</th>\n",
              "      <th>GROSS</th>\n",
              "      <th>NUM_VOTED_USERS</th>\n",
              "      <th>CAST_TOTAL_FACEBOOK_LIKES</th>\n",
              "      <th>FACENUMBER_IN_POSTER</th>\n",
              "      <th>NUM_USER_FOR_REVIEWS</th>\n",
              "      <th>BUDGET</th>\n",
              "      <th>TITLE_YEAR</th>\n",
              "      <th>ACTOR_2_FACEBOOK_LIKES</th>\n",
              "      <th>IMDB_SCORE</th>\n",
              "      <th>TITLE_YEAR.1</th>\n",
              "    </tr>\n",
              "  </thead>\n",
              "  <tbody>\n",
              "    <tr>\n",
              "      <th>2</th>\n",
              "      <td>Spectre?ÿ</td>\n",
              "      <td>602</td>\n",
              "      <td>148.0</td>\n",
              "      <td>20</td>\n",
              "      <td>161</td>\n",
              "      <td>11000</td>\n",
              "      <td>200074175</td>\n",
              "      <td>275868.0</td>\n",
              "      <td>11700.0</td>\n",
              "      <td>1.0</td>\n",
              "      <td>994</td>\n",
              "      <td>245000000</td>\n",
              "      <td>2015</td>\n",
              "      <td>393.0</td>\n",
              "      <td>6.8</td>\n",
              "      <td>2015.0</td>\n",
              "    </tr>\n",
              "    <tr>\n",
              "      <th>8</th>\n",
              "      <td>Avengers: Age of Ultron?ÿ</td>\n",
              "      <td>635</td>\n",
              "      <td>141.0</td>\n",
              "      <td>10</td>\n",
              "      <td>19000</td>\n",
              "      <td>26000</td>\n",
              "      <td>458991599</td>\n",
              "      <td>462669.0</td>\n",
              "      <td>92000.0</td>\n",
              "      <td>4.0</td>\n",
              "      <td>1117</td>\n",
              "      <td>250000000</td>\n",
              "      <td>2015</td>\n",
              "      <td>21000.0</td>\n",
              "      <td>7.5</td>\n",
              "      <td>2015.0</td>\n",
              "    </tr>\n",
              "    <tr>\n",
              "      <th>12</th>\n",
              "      <td>Quantum of Solace?ÿ</td>\n",
              "      <td>403</td>\n",
              "      <td>106.0</td>\n",
              "      <td>395</td>\n",
              "      <td>393</td>\n",
              "      <td>451</td>\n",
              "      <td>168368427</td>\n",
              "      <td>330784.0</td>\n",
              "      <td>2023.0</td>\n",
              "      <td>1.0</td>\n",
              "      <td>1243</td>\n",
              "      <td>200000000</td>\n",
              "      <td>2008</td>\n",
              "      <td>412.0</td>\n",
              "      <td>6.7</td>\n",
              "      <td>2008.0</td>\n",
              "    </tr>\n",
              "    <tr>\n",
              "      <th>13</th>\n",
              "      <td>Pirates of the Caribbean: Dead Man's Chest?ÿ</td>\n",
              "      <td>313</td>\n",
              "      <td>151.0</td>\n",
              "      <td>563</td>\n",
              "      <td>1000</td>\n",
              "      <td>40000</td>\n",
              "      <td>423032628</td>\n",
              "      <td>522040.0</td>\n",
              "      <td>48486.0</td>\n",
              "      <td>2.0</td>\n",
              "      <td>1832</td>\n",
              "      <td>225000000</td>\n",
              "      <td>2006</td>\n",
              "      <td>5000.0</td>\n",
              "      <td>7.3</td>\n",
              "      <td>2008.0</td>\n",
              "    </tr>\n",
              "  </tbody>\n",
              "</table>\n",
              "</div>"
            ],
            "text/plain": [
              "                                     MOVIE_TITLE  ...  TITLE_YEAR.1\n",
              "2                                      Spectre?ÿ  ...        2015.0\n",
              "8                      Avengers: Age of Ultron?ÿ  ...        2015.0\n",
              "12                           Quantum of Solace?ÿ  ...        2008.0\n",
              "13  Pirates of the Caribbean: Dead Man's Chest?ÿ  ...        2008.0\n",
              "\n",
              "[4 rows x 16 columns]"
            ]
          },
          "metadata": {
            "tags": []
          },
          "execution_count": 104
        }
      ]
    },
    {
      "cell_type": "code",
      "metadata": {
        "id": "7pcqDJAspWJe",
        "colab_type": "code",
        "colab": {
          "base_uri": "https://localhost:8080/",
          "height": 35
        },
        "outputId": "726205a9-bb79-4e76-a313-2832787452d0"
      },
      "source": [
        "df_drop.shape"
      ],
      "execution_count": 105,
      "outputs": [
        {
          "output_type": "execute_result",
          "data": {
            "text/plain": [
              "(4, 16)"
            ]
          },
          "metadata": {
            "tags": []
          },
          "execution_count": 105
        }
      ]
    }
  ]
}