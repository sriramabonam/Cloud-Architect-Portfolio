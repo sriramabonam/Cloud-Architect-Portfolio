{
  "nbformat": 4,
  "nbformat_minor": 0,
  "metadata": {
    "colab": {
      "name": "ChatBot.ipynb",
      "provenance": []
    },
    "kernelspec": {
      "name": "python3",
      "display_name": "Python 3"
    }
  },
  "cells": [
    {
      "cell_type": "code",
      "metadata": {
        "id": "qgbGfqMPzPhp",
        "colab_type": "code",
        "colab": {}
      },
      "source": [
        "# Description: This is a chat bot program"
      ],
      "execution_count": 0,
      "outputs": []
    },
    {
      "cell_type": "code",
      "metadata": {
        "id": "5yZr6npCzTWS",
        "colab_type": "code",
        "colab": {}
      },
      "source": [
        "#import the library\n",
        "from nltk.chat.util import Chat, reflections"
      ],
      "execution_count": 0,
      "outputs": []
    },
    {
      "cell_type": "code",
      "metadata": {
        "id": "bMOgt0dozaOG",
        "colab_type": "code",
        "colab": {}
      },
      "source": [
        "pairs = [\n",
        "    ['my name is (.*)', ['hi %1']],\n",
        "    ['(hi|hello|hey|holla|hola)', ['hey there', 'hi there', 'haayyy']],\n",
        "    ['(.*) in (.*) is fun', ['%1 in %2 is indeed fun']],\n",
        "    ['(.*)(location|city) ?', 'Tokyo, Japan'],\n",
        "    ['(.*) created you ?', ['randerson112358 did using NLTK']],\n",
        "    ['how is the weather in (.*)', ['the weather in %1 is amazing like always']],\n",
        "    ['(.*)help(.*)', ['I can help you']],\n",
        "    ['(.*) your name ?', ['my name is J.A.R.V.I.S']]\n",
        "    \n",
        "]"
      ],
      "execution_count": 0,
      "outputs": []
    },
    {
      "cell_type": "code",
      "metadata": {
        "id": "bH4kMf2O0Swt",
        "colab_type": "code",
        "outputId": "973c7c47-cbbf-4ad4-8d52-a722f9868e3b",
        "colab": {
          "base_uri": "https://localhost:8080/",
          "height": 289
        }
      },
      "source": [
        "reflections"
      ],
      "execution_count": 0,
      "outputs": [
        {
          "output_type": "execute_result",
          "data": {
            "text/plain": [
              "{'i': 'you',\n",
              " 'i am': 'you are',\n",
              " 'i was': 'you were',\n",
              " \"i'd\": 'you would',\n",
              " \"i'll\": 'you will',\n",
              " \"i'm\": 'you are',\n",
              " \"i've\": 'you have',\n",
              " 'me': 'you',\n",
              " 'my': 'your',\n",
              " 'you': 'me',\n",
              " 'you are': 'I am',\n",
              " 'you were': 'I was',\n",
              " \"you'll\": 'I will',\n",
              " \"you've\": 'I have',\n",
              " 'your': 'my',\n",
              " 'yours': 'mine'}"
            ]
          },
          "metadata": {
            "tags": []
          },
          "execution_count": 3
        }
      ]
    },
    {
      "cell_type": "code",
      "metadata": {
        "id": "HzsZCvMJ0ig0",
        "colab_type": "code",
        "colab": {}
      },
      "source": [
        "my_dummy_reflections = {\n",
        "    'go' : 'gone',\n",
        "    'hello' : 'hey there'\n",
        "}"
      ],
      "execution_count": 0,
      "outputs": []
    },
    {
      "cell_type": "code",
      "metadata": {
        "id": "jNGmDb98zg8p",
        "colab_type": "code",
        "outputId": "ec169bc5-2208-49f2-cc49-92b6421d2de7",
        "colab": {
          "base_uri": "https://localhost:8080/",
          "height": 274
        }
      },
      "source": [
        "chat = Chat(pairs, my_dummy_reflections)\n",
        "#chat._substitute('go hello')\n",
        "chat.converse()"
      ],
      "execution_count": 0,
      "outputs": [
        {
          "output_type": "stream",
          "text": [
            ">Hi\n",
            "hey there\n",
            ">my name is ram\n",
            "hi ram\n",
            ">I need your help\n",
            "I can help you\n",
            ">its regarding the my job opportunity\n",
            "None\n",
            ">my education\n",
            "None\n",
            ">I need help for eduction\n",
            "I can help you\n",
            ">Can I go for further education\n",
            "None\n"
          ],
          "name": "stdout"
        }
      ]
    }
  ]
}